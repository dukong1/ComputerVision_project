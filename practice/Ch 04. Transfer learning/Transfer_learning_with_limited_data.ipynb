{
 "cells": [
  {
   "cell_type": "markdown",
   "id": "812c60f1",
   "metadata": {},
   "source": [
    "# 한정된 데이터로 Transfer learning 적용해보기 "
   ]
  },
  {
   "cell_type": "markdown",
   "id": "05473cc0",
   "metadata": {},
   "source": [
    "## 1. CT이미지 데이터셋 살펴보기"
   ]
  },
  {
   "cell_type": "code",
   "execution_count": 1,
   "id": "11b1244e",
   "metadata": {},
   "outputs": [],
   "source": [
    "import os\n",
    "import cv2\n",
    "import numpy as np\n",
    "import pandas as pd\n",
    "import matplotlib.pyplot as plt"
   ]
  },
  {
   "cell_type": "code",
   "execution_count": 2,
   "id": "aa3eba5f",
   "metadata": {},
   "outputs": [
    {
     "data": {
      "text/html": [
       "<div>\n",
       "<style scoped>\n",
       "    .dataframe tbody tr th:only-of-type {\n",
       "        vertical-align: middle;\n",
       "    }\n",
       "\n",
       "    .dataframe tbody tr th {\n",
       "        vertical-align: top;\n",
       "    }\n",
       "\n",
       "    .dataframe thead th {\n",
       "        text-align: right;\n",
       "    }\n",
       "</style>\n",
       "<table border=\"1\" class=\"dataframe\">\n",
       "  <thead>\n",
       "    <tr style=\"text-align: right;\">\n",
       "      <th></th>\n",
       "      <th>ImageId</th>\n",
       "      <th>MaskId</th>\n",
       "    </tr>\n",
       "  </thead>\n",
       "  <tbody>\n",
       "    <tr>\n",
       "      <th>0</th>\n",
       "      <td>ID00007637202177411956430_0.jpg</td>\n",
       "      <td>ID00007637202177411956430_mask_0.jpg</td>\n",
       "    </tr>\n",
       "    <tr>\n",
       "      <th>1</th>\n",
       "      <td>ID00007637202177411956430_1.jpg</td>\n",
       "      <td>ID00007637202177411956430_mask_1.jpg</td>\n",
       "    </tr>\n",
       "    <tr>\n",
       "      <th>2</th>\n",
       "      <td>ID00007637202177411956430_2.jpg</td>\n",
       "      <td>ID00007637202177411956430_mask_2.jpg</td>\n",
       "    </tr>\n",
       "    <tr>\n",
       "      <th>3</th>\n",
       "      <td>ID00007637202177411956430_3.jpg</td>\n",
       "      <td>ID00007637202177411956430_mask_3.jpg</td>\n",
       "    </tr>\n",
       "    <tr>\n",
       "      <th>4</th>\n",
       "      <td>ID00007637202177411956430_4.jpg</td>\n",
       "      <td>ID00007637202177411956430_mask_4.jpg</td>\n",
       "    </tr>\n",
       "  </tbody>\n",
       "</table>\n",
       "</div>"
      ],
      "text/plain": [
       "                           ImageId                                MaskId\n",
       "0  ID00007637202177411956430_0.jpg  ID00007637202177411956430_mask_0.jpg\n",
       "1  ID00007637202177411956430_1.jpg  ID00007637202177411956430_mask_1.jpg\n",
       "2  ID00007637202177411956430_2.jpg  ID00007637202177411956430_mask_2.jpg\n",
       "3  ID00007637202177411956430_3.jpg  ID00007637202177411956430_mask_3.jpg\n",
       "4  ID00007637202177411956430_4.jpg  ID00007637202177411956430_mask_4.jpg"
      ]
     },
     "execution_count": 2,
     "metadata": {},
     "output_type": "execute_result"
    }
   ],
   "source": [
    "data_dir = \"../DATASET/Segmentation/\"\n",
    "data_df = pd.read_csv(os.path.join(data_dir, \"train.csv\"))\n",
    "data_df.head()"
   ]
  },
  {
   "cell_type": "code",
   "execution_count": 3,
   "id": "13648618",
   "metadata": {},
   "outputs": [],
   "source": [
    "def extract_client_id(x):\n",
    "    return x.split(\"_\")[0]"
   ]
  },
  {
   "cell_type": "code",
   "execution_count": 4,
   "id": "2dd46171",
   "metadata": {},
   "outputs": [
    {
     "data": {
      "text/html": [
       "<div>\n",
       "<style scoped>\n",
       "    .dataframe tbody tr th:only-of-type {\n",
       "        vertical-align: middle;\n",
       "    }\n",
       "\n",
       "    .dataframe tbody tr th {\n",
       "        vertical-align: top;\n",
       "    }\n",
       "\n",
       "    .dataframe thead th {\n",
       "        text-align: right;\n",
       "    }\n",
       "</style>\n",
       "<table border=\"1\" class=\"dataframe\">\n",
       "  <thead>\n",
       "    <tr style=\"text-align: right;\">\n",
       "      <th></th>\n",
       "      <th>ImageId</th>\n",
       "      <th>MaskId</th>\n",
       "      <th>Id</th>\n",
       "    </tr>\n",
       "  </thead>\n",
       "  <tbody>\n",
       "    <tr>\n",
       "      <th>0</th>\n",
       "      <td>ID00007637202177411956430_0.jpg</td>\n",
       "      <td>ID00007637202177411956430_mask_0.jpg</td>\n",
       "      <td>ID00007637202177411956430</td>\n",
       "    </tr>\n",
       "    <tr>\n",
       "      <th>1</th>\n",
       "      <td>ID00007637202177411956430_1.jpg</td>\n",
       "      <td>ID00007637202177411956430_mask_1.jpg</td>\n",
       "      <td>ID00007637202177411956430</td>\n",
       "    </tr>\n",
       "    <tr>\n",
       "      <th>2</th>\n",
       "      <td>ID00007637202177411956430_2.jpg</td>\n",
       "      <td>ID00007637202177411956430_mask_2.jpg</td>\n",
       "      <td>ID00007637202177411956430</td>\n",
       "    </tr>\n",
       "    <tr>\n",
       "      <th>3</th>\n",
       "      <td>ID00007637202177411956430_3.jpg</td>\n",
       "      <td>ID00007637202177411956430_mask_3.jpg</td>\n",
       "      <td>ID00007637202177411956430</td>\n",
       "    </tr>\n",
       "    <tr>\n",
       "      <th>4</th>\n",
       "      <td>ID00007637202177411956430_4.jpg</td>\n",
       "      <td>ID00007637202177411956430_mask_4.jpg</td>\n",
       "      <td>ID00007637202177411956430</td>\n",
       "    </tr>\n",
       "    <tr>\n",
       "      <th>...</th>\n",
       "      <td>...</td>\n",
       "      <td>...</td>\n",
       "      <td>...</td>\n",
       "    </tr>\n",
       "    <tr>\n",
       "      <th>16703</th>\n",
       "      <td>ID00426637202313170790466_403.jpg</td>\n",
       "      <td>ID00426637202313170790466_mask_403.jpg</td>\n",
       "      <td>ID00426637202313170790466</td>\n",
       "    </tr>\n",
       "    <tr>\n",
       "      <th>16704</th>\n",
       "      <td>ID00426637202313170790466_404.jpg</td>\n",
       "      <td>ID00426637202313170790466_mask_404.jpg</td>\n",
       "      <td>ID00426637202313170790466</td>\n",
       "    </tr>\n",
       "    <tr>\n",
       "      <th>16705</th>\n",
       "      <td>ID00426637202313170790466_405.jpg</td>\n",
       "      <td>ID00426637202313170790466_mask_405.jpg</td>\n",
       "      <td>ID00426637202313170790466</td>\n",
       "    </tr>\n",
       "    <tr>\n",
       "      <th>16706</th>\n",
       "      <td>ID00426637202313170790466_406.jpg</td>\n",
       "      <td>ID00426637202313170790466_mask_406.jpg</td>\n",
       "      <td>ID00426637202313170790466</td>\n",
       "    </tr>\n",
       "    <tr>\n",
       "      <th>16707</th>\n",
       "      <td>ID00426637202313170790466_407.jpg</td>\n",
       "      <td>ID00426637202313170790466_mask_407.jpg</td>\n",
       "      <td>ID00426637202313170790466</td>\n",
       "    </tr>\n",
       "  </tbody>\n",
       "</table>\n",
       "<p>16708 rows × 3 columns</p>\n",
       "</div>"
      ],
      "text/plain": [
       "                                 ImageId  \\\n",
       "0        ID00007637202177411956430_0.jpg   \n",
       "1        ID00007637202177411956430_1.jpg   \n",
       "2        ID00007637202177411956430_2.jpg   \n",
       "3        ID00007637202177411956430_3.jpg   \n",
       "4        ID00007637202177411956430_4.jpg   \n",
       "...                                  ...   \n",
       "16703  ID00426637202313170790466_403.jpg   \n",
       "16704  ID00426637202313170790466_404.jpg   \n",
       "16705  ID00426637202313170790466_405.jpg   \n",
       "16706  ID00426637202313170790466_406.jpg   \n",
       "16707  ID00426637202313170790466_407.jpg   \n",
       "\n",
       "                                       MaskId                         Id  \n",
       "0        ID00007637202177411956430_mask_0.jpg  ID00007637202177411956430  \n",
       "1        ID00007637202177411956430_mask_1.jpg  ID00007637202177411956430  \n",
       "2        ID00007637202177411956430_mask_2.jpg  ID00007637202177411956430  \n",
       "3        ID00007637202177411956430_mask_3.jpg  ID00007637202177411956430  \n",
       "4        ID00007637202177411956430_mask_4.jpg  ID00007637202177411956430  \n",
       "...                                       ...                        ...  \n",
       "16703  ID00426637202313170790466_mask_403.jpg  ID00426637202313170790466  \n",
       "16704  ID00426637202313170790466_mask_404.jpg  ID00426637202313170790466  \n",
       "16705  ID00426637202313170790466_mask_405.jpg  ID00426637202313170790466  \n",
       "16706  ID00426637202313170790466_mask_406.jpg  ID00426637202313170790466  \n",
       "16707  ID00426637202313170790466_mask_407.jpg  ID00426637202313170790466  \n",
       "\n",
       "[16708 rows x 3 columns]"
      ]
     },
     "execution_count": 4,
     "metadata": {},
     "output_type": "execute_result"
    }
   ],
   "source": [
    "data_df[\"Id\"] = data_df.ImageId.apply(lambda x:extract_client_id(x))\n",
    "data_df"
   ]
  },
  {
   "cell_type": "code",
   "execution_count": 5,
   "id": "07063733",
   "metadata": {},
   "outputs": [],
   "source": [
    "def get_client_data(data_df, index):\n",
    "    client_ids = np.unique(data_df.Id.values)\n",
    "    client_id = client_ids[index]\n",
    "    client_data = data_df[data_df.Id == client_id]\n",
    "    image_files = list(client_data[\"ImageId\"])\n",
    "    mask_files = list(client_data[\"MaskId\"])\n",
    "    return client_id, image_files, mask_files"
   ]
  },
  {
   "cell_type": "code",
   "execution_count": 6,
   "id": "a87ab0b6",
   "metadata": {},
   "outputs": [],
   "source": [
    "regions = [\"background\", \"trachea\", \"heart\", \"lung\"]\n",
    "colors = ((0,0,0), (255, 0, 0), (0, 255, 0), (0, 0, 255))"
   ]
  },
  {
   "cell_type": "code",
   "execution_count": 7,
   "id": "8d289deb",
   "metadata": {
    "collapsed": true
   },
   "outputs": [
    {
     "ename": "error",
     "evalue": "OpenCV(4.7.0) D:\\a\\opencv-python\\opencv-python\\opencv\\modules\\highgui\\src\\window.cpp:1272: error: (-2:Unspecified error) The function is not implemented. Rebuild the library with Windows, GTK+ 2.x or Cocoa support. If you are on Ubuntu or Debian, install libgtk2.0-dev and pkg-config, then re-run cmake or configure script in function 'cvShowImage'\n",
     "output_type": "error",
     "traceback": [
      "\u001b[1;31m---------------------------------------------------------------------------\u001b[0m",
      "\u001b[1;31merror\u001b[0m                                     Traceback (most recent call last)",
      "Input \u001b[1;32mIn [7]\u001b[0m, in \u001b[0;36m<cell line: 5>\u001b[1;34m()\u001b[0m\n\u001b[0;32m     19\u001b[0m     cv2\u001b[38;5;241m.\u001b[39mputText(canvas, \u001b[38;5;124mf\u001b[39m\u001b[38;5;124m'\u001b[39m\u001b[38;5;132;01m{\u001b[39;00mregions[j]\u001b[38;5;241m.\u001b[39mupper()\u001b[38;5;132;01m}\u001b[39;00m\u001b[38;5;124m'\u001b[39m, (\u001b[38;5;241m900\u001b[39m, text_buff), \n\u001b[0;32m     20\u001b[0m                 cv2\u001b[38;5;241m.\u001b[39mFONT_HERSHEY_SIMPLEX, \u001b[38;5;241m1\u001b[39m, colors[j], \u001b[38;5;241m2\u001b[39m)\n\u001b[0;32m     21\u001b[0m     text_buff \u001b[38;5;241m+\u001b[39m\u001b[38;5;241m=\u001b[39m \u001b[38;5;241m40\u001b[39m\n\u001b[1;32m---> 23\u001b[0m \u001b[43mcv2\u001b[49m\u001b[38;5;241;43m.\u001b[39;49m\u001b[43mimshow\u001b[49m\u001b[43m(\u001b[49m\u001b[38;5;124;43m'\u001b[39;49m\u001b[38;5;124;43mimage\u001b[39;49m\u001b[38;5;124;43m'\u001b[39;49m\u001b[43m,\u001b[49m\u001b[43m \u001b[49m\u001b[43mcanvas\u001b[49m\u001b[43m)\u001b[49m\n\u001b[0;32m     24\u001b[0m key \u001b[38;5;241m=\u001b[39m cv2\u001b[38;5;241m.\u001b[39mwaitKey(\u001b[38;5;241m60\u001b[39m)\n\u001b[0;32m     25\u001b[0m \u001b[38;5;28;01mif\u001b[39;00m key \u001b[38;5;241m==\u001b[39m \u001b[38;5;241m27\u001b[39m:\n",
      "\u001b[1;31merror\u001b[0m: OpenCV(4.7.0) D:\\a\\opencv-python\\opencv-python\\opencv\\modules\\highgui\\src\\window.cpp:1272: error: (-2:Unspecified error) The function is not implemented. Rebuild the library with Windows, GTK+ 2.x or Cocoa support. If you are on Ubuntu or Debian, install libgtk2.0-dev and pkg-config, then re-run cmake or configure script in function 'cvShowImage'\n"
     ]
    }
   ],
   "source": [
    "index = 50\n",
    "client_id, image_files, mask_files = get_client_data(data_df, index)\n",
    "\n",
    "canvas = np.zeros(shape=(512, 2*512+50, 3), dtype=np.uint8)\n",
    "for i in range(len(image_files)):\n",
    "    image = cv2.imread(os.path.join(data_dir, \"images\", image_files[i]))\n",
    "    image = cv2.cvtColor(image, cv2.COLOR_BGR2RGB)\n",
    "    mask = cv2.imread(os.path.join(data_dir, \"masks\", mask_files[i]))\n",
    "    mask = cv2.cvtColor(mask, cv2.COLOR_BGR2RGB)\n",
    "    thres = 240\n",
    "    mask[mask < thres] = 0\n",
    "    mask[mask >= thres] = 255\n",
    "    \n",
    "    canvas[:, :512, :] = image\n",
    "    canvas[:, 512+50:2*512+50, :] = mask\n",
    "    \n",
    "    text_buff = 410\n",
    "    for j in range(1, len(regions)):\n",
    "        cv2.putText(canvas, f'{regions[j].upper()}', (900, text_buff), \n",
    "                    cv2.FONT_HERSHEY_SIMPLEX, 1, colors[j], 2)\n",
    "        text_buff += 40\n",
    "    \n",
    "    cv2.imshow('image', canvas)\n",
    "    key = cv2.waitKey(60)\n",
    "    if key == 27:\n",
    "        break\n",
    "    if key == ord('s'):\n",
    "        cv2.waitKey(0)\n",
    "cv2.destroyAllWindows()"
   ]
  },
  {
   "cell_type": "markdown",
   "id": "cc4124d8",
   "metadata": {},
   "source": [
    "## 2. 데이터셋 구축과 연산을 위한 텐서변환 모듈 작성하기"
   ]
  },
  {
   "cell_type": "code",
   "execution_count": 22,
   "id": "cca3e2b8",
   "metadata": {},
   "outputs": [],
   "source": [
    "import torch\n",
    "\n",
    "IMAGE_SIZE = 224"
   ]
  },
  {
   "cell_type": "code",
   "execution_count": 23,
   "id": "ab918377",
   "metadata": {},
   "outputs": [],
   "source": [
    "class CT_dataset():\n",
    "    def __init__(self, data_dir, phase, transformer=None):\n",
    "        self.phase = phase\n",
    "        self.images_dir = os.path.join(data_dir, phase, \"images\")\n",
    "        self.masks_dir = os.path.join(data_dir, phase, \"masks\")\n",
    "        self.image_files = [filename for filename in os.listdir(self.images_dir) if filename.endswith(\"jpg\")]\n",
    "        self.mask_files =  [filename for filename in os.listdir(self.masks_dir) if filename.endswith(\"jpg\")]\n",
    "        assert len(self.image_files) == len(self.mask_files)\n",
    "        \n",
    "        self.transformer = transformer\n",
    "        \n",
    "    def __len__(self):\n",
    "        return len(self.image_files)\n",
    "    \n",
    "    def __getitem__(self, index):\n",
    "        image = cv2.imread(os.path.join(self.images_dir, self.image_files[index]))\n",
    "        image = cv2.resize(image, dsize=(IMAGE_SIZE, IMAGE_SIZE), interpolation=cv2.INTER_LINEAR)\n",
    "        mask = cv2.imread(os.path.join(self.masks_dir, self.mask_files[index]))\n",
    "        mask = cv2.resize(mask, dsize=(IMAGE_SIZE, IMAGE_SIZE), interpolation=cv2.INTER_NEAREST)\n",
    "        # mask는 인접한 픽셀을 binary하게 채우는 nearest(비선형) 방식으로 해야함\n",
    "        \n",
    "        mask[mask < 240] = 0\n",
    "        mask[mask >= 240] = 255\n",
    "        # 손실압축 jpg형식 보안 \n",
    "        mask = mask / 255.\n",
    "        #normalize\n",
    "\n",
    "        mask_H, mask_W, mask_C = mask.shape\n",
    "        background = np.ones(shape=(mask_H, mask_W))\n",
    "        background[mask[..., 0] != 0] = 0 #trachea\n",
    "        background[mask[..., 1] != 0] = 0 #heart\n",
    "        background[mask[..., 2] != 0] = 0 #lung셋 어느부분에도 속해있지 않으면 background\n",
    "        #pixel 단위로 classification 되므로 background 영역 만듦 \n",
    "        mask = np.concatenate([np.expand_dims(background, axis=-1), mask], axis=-1)\n",
    "        #기존에 있던 mask dataset에 마지막 축 = Channel에 concatenate\n",
    "        # np.expand_dims(background, axis=-1) = background.shape(H,W) -> (H,W,1)\n",
    "        # 기존 mask.shape (H,W,C(3)) -> new mask.shape (H,W,C+1(4))\n",
    "        mask = np.argmax(mask, axis=-1, keepdims=False)\n",
    "        #4개 channel중 가장 높은 수치를 인덱스 값으로 나타냄\n",
    "        # new mask.shape (H,W,4) -> new mask.shape (H,W)\n",
    "        \n",
    "        if self.transformer:\n",
    "            image = self.transformer(image) #image dataset을 tensor형으로 변환하고 normalize\n",
    "        \n",
    "        target = torch.from_numpy(mask).long() #classification을 pixel 단위로 수행 -> integer형태로 변환\n",
    "        return image, target"
   ]
  },
  {
   "cell_type": "code",
   "execution_count": 24,
   "id": "0f55d4e3",
   "metadata": {},
   "outputs": [],
   "source": [
    "data_dir = \"../DATASET/Segmentation/\"\n",
    "dset = CT_dataset(data_dir, \"train\")"
   ]
  },
  {
   "cell_type": "code",
   "execution_count": 25,
   "id": "4cee6877",
   "metadata": {
    "scrolled": true
   },
   "outputs": [
    {
     "data": {
      "text/plain": [
       "(array([[[0, 0, 0],\n",
       "         [0, 0, 0],\n",
       "         [0, 0, 0],\n",
       "         ...,\n",
       "         [0, 0, 0],\n",
       "         [0, 0, 0],\n",
       "         [0, 0, 0]],\n",
       " \n",
       "        [[0, 0, 0],\n",
       "         [0, 0, 0],\n",
       "         [0, 0, 0],\n",
       "         ...,\n",
       "         [0, 0, 0],\n",
       "         [0, 0, 0],\n",
       "         [0, 0, 0]],\n",
       " \n",
       "        [[0, 0, 0],\n",
       "         [0, 0, 0],\n",
       "         [0, 0, 0],\n",
       "         ...,\n",
       "         [0, 0, 0],\n",
       "         [0, 0, 0],\n",
       "         [0, 0, 0]],\n",
       " \n",
       "        ...,\n",
       " \n",
       "        [[0, 0, 0],\n",
       "         [0, 0, 0],\n",
       "         [0, 0, 0],\n",
       "         ...,\n",
       "         [0, 0, 0],\n",
       "         [0, 0, 0],\n",
       "         [0, 0, 0]],\n",
       " \n",
       "        [[0, 0, 0],\n",
       "         [0, 0, 0],\n",
       "         [0, 0, 0],\n",
       "         ...,\n",
       "         [0, 0, 0],\n",
       "         [0, 0, 0],\n",
       "         [0, 0, 0]],\n",
       " \n",
       "        [[0, 0, 0],\n",
       "         [0, 0, 0],\n",
       "         [0, 0, 0],\n",
       "         ...,\n",
       "         [0, 0, 0],\n",
       "         [0, 0, 0],\n",
       "         [0, 0, 0]]], dtype=uint8),\n",
       " tensor([[0, 0, 0,  ..., 0, 0, 0],\n",
       "         [0, 0, 0,  ..., 0, 0, 0],\n",
       "         [0, 0, 0,  ..., 0, 0, 0],\n",
       "         ...,\n",
       "         [0, 0, 0,  ..., 0, 0, 0],\n",
       "         [0, 0, 0,  ..., 0, 0, 0],\n",
       "         [0, 0, 0,  ..., 0, 0, 0]]))"
      ]
     },
     "execution_count": 25,
     "metadata": {},
     "output_type": "execute_result"
    }
   ],
   "source": [
    "dset[0]"
   ]
  },
  {
   "cell_type": "code",
   "execution_count": 26,
   "id": "a9a48a05",
   "metadata": {},
   "outputs": [],
   "source": [
    "from torchvision import transforms\n",
    "\n",
    "def build_transformer():\n",
    "    transformer = transforms.Compose([\n",
    "        transforms.ToTensor(),\n",
    "        transforms.Normalize(mean=[0.485,0.456,0.406], std=[0.229, 0.224, 0.225])\n",
    "    ])\n",
    "    return transformer"
   ]
  },
  {
   "cell_type": "code",
   "execution_count": 27,
   "id": "eae52f5b",
   "metadata": {},
   "outputs": [],
   "source": [
    "transformer = build_transformer()\n",
    "dset = CT_dataset(data_dir=data_dir, phase=\"train\", transformer=transformer)"
   ]
  },
  {
   "cell_type": "code",
   "execution_count": 28,
   "id": "73cb4b9f",
   "metadata": {
    "scrolled": true
   },
   "outputs": [
    {
     "data": {
      "text/plain": [
       "(tensor([[[-2.1179, -2.1179, -2.1179,  ..., -2.1179, -2.1179, -2.1179],\n",
       "          [-2.1179, -2.1179, -2.1179,  ..., -2.1179, -2.1179, -2.1179],\n",
       "          [-2.1179, -2.1179, -2.1179,  ..., -2.1179, -2.1179, -2.1179],\n",
       "          ...,\n",
       "          [-2.1179, -2.1179, -2.1179,  ..., -2.1179, -2.1179, -2.1179],\n",
       "          [-2.1179, -2.1179, -2.1179,  ..., -2.1179, -2.1179, -2.1179],\n",
       "          [-2.1179, -2.1179, -2.1179,  ..., -2.1179, -2.1179, -2.1179]],\n",
       " \n",
       "         [[-2.0357, -2.0357, -2.0357,  ..., -2.0357, -2.0357, -2.0357],\n",
       "          [-2.0357, -2.0357, -2.0357,  ..., -2.0357, -2.0357, -2.0357],\n",
       "          [-2.0357, -2.0357, -2.0357,  ..., -2.0357, -2.0357, -2.0357],\n",
       "          ...,\n",
       "          [-2.0357, -2.0357, -2.0357,  ..., -2.0357, -2.0357, -2.0357],\n",
       "          [-2.0357, -2.0357, -2.0357,  ..., -2.0357, -2.0357, -2.0357],\n",
       "          [-2.0357, -2.0357, -2.0357,  ..., -2.0357, -2.0357, -2.0357]],\n",
       " \n",
       "         [[-1.8044, -1.8044, -1.8044,  ..., -1.8044, -1.8044, -1.8044],\n",
       "          [-1.8044, -1.8044, -1.8044,  ..., -1.8044, -1.8044, -1.8044],\n",
       "          [-1.8044, -1.8044, -1.8044,  ..., -1.8044, -1.8044, -1.8044],\n",
       "          ...,\n",
       "          [-1.8044, -1.8044, -1.8044,  ..., -1.8044, -1.8044, -1.8044],\n",
       "          [-1.8044, -1.8044, -1.8044,  ..., -1.8044, -1.8044, -1.8044],\n",
       "          [-1.8044, -1.8044, -1.8044,  ..., -1.8044, -1.8044, -1.8044]]]),\n",
       " tensor([[0, 0, 0,  ..., 0, 0, 0],\n",
       "         [0, 0, 0,  ..., 0, 0, 0],\n",
       "         [0, 0, 0,  ..., 0, 0, 0],\n",
       "         ...,\n",
       "         [0, 0, 0,  ..., 0, 0, 0],\n",
       "         [0, 0, 0,  ..., 0, 0, 0],\n",
       "         [0, 0, 0,  ..., 0, 0, 0]]))"
      ]
     },
     "execution_count": 28,
     "metadata": {},
     "output_type": "execute_result"
    }
   ],
   "source": [
    "dset[0]"
   ]
  },
  {
   "cell_type": "code",
   "execution_count": 29,
   "id": "dac2dd2c",
   "metadata": {},
   "outputs": [
    {
     "name": "stdout",
     "output_type": "stream",
     "text": [
      "image shape: torch.Size([3, 224, 224])\n",
      "target shape: torch.Size([224, 224])\n"
     ]
    }
   ],
   "source": [
    "image, target = dset[0]\n",
    "print(f\"image shape: {image.shape}\")\n",
    "print(f\"target shape: {target.shape}\")"
   ]
  },
  {
   "cell_type": "code",
   "execution_count": 30,
   "id": "d42f3709",
   "metadata": {},
   "outputs": [],
   "source": [
    "# dataloader에서 data를 반복적으로 불러오기 위해\n",
    "def collate_fn(batch):\n",
    "    images = []\n",
    "    targets = []\n",
    "    for a, b in batch:\n",
    "        images.append(a)\n",
    "        targets.append(b)\n",
    "    images = torch.stack(images, dim=0)\n",
    "    targets = torch.stack(targets, dim=0)\n",
    "    return images, targets"
   ]
  },
  {
   "cell_type": "code",
   "execution_count": 31,
   "id": "bdb60feb",
   "metadata": {},
   "outputs": [],
   "source": [
    "from torch.utils.data import DataLoader"
   ]
  },
  {
   "cell_type": "code",
   "execution_count": 32,
   "id": "5fafd1fc",
   "metadata": {},
   "outputs": [],
   "source": [
    "dloader = DataLoader(dset, batch_size=4, shuffle=True, collate_fn=collate_fn)"
   ]
  },
  {
   "cell_type": "code",
   "execution_count": 33,
   "id": "21bec5ed",
   "metadata": {},
   "outputs": [
    {
     "name": "stdout",
     "output_type": "stream",
     "text": [
      "images shape: torch.Size([4, 3, 224, 224])\n",
      "targets shape: torch.Size([4, 224, 224])\n"
     ]
    }
   ],
   "source": [
    "for index, batch in enumerate(dloader):\n",
    "    images = batch[0]\n",
    "    targets = batch[1]\n",
    "    print(f\"images shape: {images.shape}\")\n",
    "    print(f\"targets shape: {targets.shape}\")\n",
    "    \n",
    "    if index == 0:\n",
    "        break"
   ]
  },
  {
   "cell_type": "code",
   "execution_count": 34,
   "id": "fd3bf510",
   "metadata": {},
   "outputs": [],
   "source": [
    "#train, val dataloder로 build하는 함수\n",
    "def build_dataloader(data_dir, batch_size=4):\n",
    "    transformer = build_transformer()\n",
    "    \n",
    "    dataloaders = {}\n",
    "    train_dataset = CT_dataset(data_dir=data_dir, phase=\"train\", transformer=transformer)\n",
    "    dataloaders[\"train\"] = DataLoader(train_dataset, batch_size=batch_size, shuffle=False, collate_fn=collate_fn)\n",
    "    \n",
    "    # shuffle = False - transfer learning 을 위해 고정 120장만 사용하기 위해\n",
    "    \n",
    "    val_dataset = CT_dataset(data_dir=data_dir, phase=\"val\", transformer=transformer)\n",
    "    dataloaders[\"val\"] = DataLoader(val_dataset, batch_size=batch_size, shuffle=False, collate_fn=collate_fn)\n",
    "    return dataloaders"
   ]
  },
  {
   "cell_type": "code",
   "execution_count": 35,
   "id": "f66a71ae",
   "metadata": {},
   "outputs": [
    {
     "name": "stdout",
     "output_type": "stream",
     "text": [
      "images shape: torch.Size([4, 3, 224, 224])\n",
      "targets shape: torch.Size([4, 224, 224])\n",
      "images shape: torch.Size([4, 3, 224, 224])\n",
      "targets shape: torch.Size([4, 224, 224])\n"
     ]
    }
   ],
   "source": [
    "data_dir = \"../DATASET/Segmentation/\"\n",
    "dataloaders = build_dataloader(data_dir=data_dir)\n",
    "\n",
    "for phase in [\"train\", \"val\"]:\n",
    "    for index, batch in enumerate(dataloaders[phase]):\n",
    "        images = batch[0]\n",
    "        targets = batch[1]\n",
    "        print(f\"images shape: {images.shape}\")\n",
    "        print(f\"targets shape: {targets.shape}\")\n",
    "        \n",
    "        if index == 0:\n",
    "            break"
   ]
  },
  {
   "cell_type": "markdown",
   "id": "81ee5452",
   "metadata": {},
   "source": [
    "## 3. VGG16 Backbone 을 이용한 U-Net 아키텍처 구현해보기"
   ]
  },
  {
   "cell_type": "code",
   "execution_count": 36,
   "id": "70c6e9cd",
   "metadata": {},
   "outputs": [],
   "source": [
    "def ConvLayer(in_channels, out_channels, kernel_size=3, padding=1):\n",
    "    # kernel_size=3, padding=1 -> defalut로 준 이유 ->convolution연산에서 resolution loss 없게하려고\n",
    "    layers = nn.Sequential(\n",
    "        nn.Conv2d(in_channels, out_channels, kernel_size=kernel_size, padding=padding),\n",
    "        nn.BatchNorm2d(out_channels),\n",
    "        nn.ReLU(inplace=True),\n",
    "        nn.Conv2d(out_channels, out_channels, kernel_size=kernel_size, padding=padding),\n",
    "        nn.BatchNorm2d(out_channels),\n",
    "        nn.ReLU(inplace=True),\n",
    "        #UNet은 convolution연산을 기본적으로 2번씩 수행\n",
    "    )\n",
    "    return layers\n",
    "\n",
    "def UpConvLayer(in_channels, out_channels):\n",
    "    layers = nn.Sequential(\n",
    "        nn.ConvTranspose2d(in_channels, out_channels, kernel_size=2, stride=2),\n",
    "        nn.BatchNorm2d(out_channels),\n",
    "        nn.ReLU(inplace=True)\n",
    "    )\n",
    "    return layers"
   ]
  },
  {
   "cell_type": "code",
   "execution_count": 37,
   "id": "891e6ef3",
   "metadata": {},
   "outputs": [],
   "source": [
    "import torch.nn as nn\n",
    "from torchvision import transforms, models"
   ]
  },
  {
   "cell_type": "code",
   "execution_count": 38,
   "id": "2e7d97f3",
   "metadata": {
    "scrolled": true
   },
   "outputs": [
    {
     "data": {
      "text/plain": [
       "VGG(\n",
       "  (features): Sequential(\n",
       "    (0): Conv2d(3, 64, kernel_size=(3, 3), stride=(1, 1), padding=(1, 1))\n",
       "    (1): BatchNorm2d(64, eps=1e-05, momentum=0.1, affine=True, track_running_stats=True)\n",
       "    (2): ReLU(inplace=True)\n",
       "    (3): Conv2d(64, 64, kernel_size=(3, 3), stride=(1, 1), padding=(1, 1))\n",
       "    (4): BatchNorm2d(64, eps=1e-05, momentum=0.1, affine=True, track_running_stats=True)\n",
       "    (5): ReLU(inplace=True)\n",
       "    (6): MaxPool2d(kernel_size=2, stride=2, padding=0, dilation=1, ceil_mode=False)\n",
       "    (7): Conv2d(64, 128, kernel_size=(3, 3), stride=(1, 1), padding=(1, 1))\n",
       "    (8): BatchNorm2d(128, eps=1e-05, momentum=0.1, affine=True, track_running_stats=True)\n",
       "    (9): ReLU(inplace=True)\n",
       "    (10): Conv2d(128, 128, kernel_size=(3, 3), stride=(1, 1), padding=(1, 1))\n",
       "    (11): BatchNorm2d(128, eps=1e-05, momentum=0.1, affine=True, track_running_stats=True)\n",
       "    (12): ReLU(inplace=True)\n",
       "    (13): MaxPool2d(kernel_size=2, stride=2, padding=0, dilation=1, ceil_mode=False)\n",
       "    (14): Conv2d(128, 256, kernel_size=(3, 3), stride=(1, 1), padding=(1, 1))\n",
       "    (15): BatchNorm2d(256, eps=1e-05, momentum=0.1, affine=True, track_running_stats=True)\n",
       "    (16): ReLU(inplace=True)\n",
       "    (17): Conv2d(256, 256, kernel_size=(3, 3), stride=(1, 1), padding=(1, 1))\n",
       "    (18): BatchNorm2d(256, eps=1e-05, momentum=0.1, affine=True, track_running_stats=True)\n",
       "    (19): ReLU(inplace=True)\n",
       "    (20): Conv2d(256, 256, kernel_size=(3, 3), stride=(1, 1), padding=(1, 1))\n",
       "    (21): BatchNorm2d(256, eps=1e-05, momentum=0.1, affine=True, track_running_stats=True)\n",
       "    (22): ReLU(inplace=True)\n",
       "    (23): MaxPool2d(kernel_size=2, stride=2, padding=0, dilation=1, ceil_mode=False)\n",
       "    (24): Conv2d(256, 512, kernel_size=(3, 3), stride=(1, 1), padding=(1, 1))\n",
       "    (25): BatchNorm2d(512, eps=1e-05, momentum=0.1, affine=True, track_running_stats=True)\n",
       "    (26): ReLU(inplace=True)\n",
       "    (27): Conv2d(512, 512, kernel_size=(3, 3), stride=(1, 1), padding=(1, 1))\n",
       "    (28): BatchNorm2d(512, eps=1e-05, momentum=0.1, affine=True, track_running_stats=True)\n",
       "    (29): ReLU(inplace=True)\n",
       "    (30): Conv2d(512, 512, kernel_size=(3, 3), stride=(1, 1), padding=(1, 1))\n",
       "    (31): BatchNorm2d(512, eps=1e-05, momentum=0.1, affine=True, track_running_stats=True)\n",
       "    (32): ReLU(inplace=True)\n",
       "    (33): MaxPool2d(kernel_size=2, stride=2, padding=0, dilation=1, ceil_mode=False)\n",
       "    (34): Conv2d(512, 512, kernel_size=(3, 3), stride=(1, 1), padding=(1, 1))\n",
       "    (35): BatchNorm2d(512, eps=1e-05, momentum=0.1, affine=True, track_running_stats=True)\n",
       "    (36): ReLU(inplace=True)\n",
       "    (37): Conv2d(512, 512, kernel_size=(3, 3), stride=(1, 1), padding=(1, 1))\n",
       "    (38): BatchNorm2d(512, eps=1e-05, momentum=0.1, affine=True, track_running_stats=True)\n",
       "    (39): ReLU(inplace=True)\n",
       "    (40): Conv2d(512, 512, kernel_size=(3, 3), stride=(1, 1), padding=(1, 1))\n",
       "    (41): BatchNorm2d(512, eps=1e-05, momentum=0.1, affine=True, track_running_stats=True)\n",
       "    (42): ReLU(inplace=True)\n",
       "    (43): MaxPool2d(kernel_size=2, stride=2, padding=0, dilation=1, ceil_mode=False)\n",
       "  )\n",
       "  (avgpool): AdaptiveAvgPool2d(output_size=(7, 7))\n",
       "  (classifier): Sequential(\n",
       "    (0): Linear(in_features=25088, out_features=4096, bias=True)\n",
       "    (1): ReLU(inplace=True)\n",
       "    (2): Dropout(p=0.5, inplace=False)\n",
       "    (3): Linear(in_features=4096, out_features=4096, bias=True)\n",
       "    (4): ReLU(inplace=True)\n",
       "    (5): Dropout(p=0.5, inplace=False)\n",
       "    (6): Linear(in_features=4096, out_features=1000, bias=True)\n",
       "  )\n",
       ")"
      ]
     },
     "execution_count": 38,
     "metadata": {},
     "output_type": "execute_result"
    }
   ],
   "source": [
    "vgg16 = models.vgg16_bn(pretrained = False)\n",
    "vgg16\n",
    "\n",
    "# UNet encoder channel =1024 / vgg16_bn의 layer는 512가 끝으로 512 convolution layer\n",
    "#가져온 후 1024 feature map으로 변환하는 convolution layer 하나 추가해야함"
   ]
  },
  {
   "cell_type": "code",
   "execution_count": 39,
   "id": "643fffe5",
   "metadata": {},
   "outputs": [],
   "source": [
    "class Encoder(nn.Module):\n",
    "    def __init__(self, pretrained):\n",
    "        super().__init__()\n",
    "        backbone = models.vgg16_bn(pretrained=pretrained).features\n",
    "        self.conv_block1 = nn.Sequential(*backbone[:6])\n",
    "        self.conv_block2 = nn.Sequential(*backbone[6:13])\n",
    "        self.conv_block3 = nn.Sequential(*backbone[13:20])\n",
    "        self.conv_block4 = nn.Sequential(*backbone[20:27])\n",
    "        self.conv_block5 = nn.Sequential(*backbone[27:34], \n",
    "                                         ConvLayer(512, 1024, kernel_size=1, padding=0))\n",
    "        #채널변화만 주기위해 kernel_size =1 / 커널사이즈가 1이니깐 padding = 0\n",
    "    def forward(self, x):\n",
    "        encode_features = []\n",
    "        out = self.conv_block1(x)\n",
    "        encode_features.append(out)\n",
    "        \n",
    "        out = self.conv_block2(out)\n",
    "        encode_features.append(out)\n",
    "        \n",
    "        out = self.conv_block3(out)\n",
    "        encode_features.append(out)\n",
    "        \n",
    "        out = self.conv_block4(out)\n",
    "        encode_features.append(out)\n",
    "        \n",
    "        out = self.conv_block5(out)\n",
    "        return out, encode_features"
   ]
  },
  {
   "cell_type": "code",
   "execution_count": 40,
   "id": "ddefcb5b",
   "metadata": {},
   "outputs": [],
   "source": [
    "encoder = Encoder(pretrained=False)\n",
    "x = torch.randn(1, 3, 224, 224)\n",
    "out, ftrs = encoder(x)"
   ]
  },
  {
   "cell_type": "code",
   "execution_count": 41,
   "id": "c258cf0b",
   "metadata": {},
   "outputs": [
    {
     "name": "stdout",
     "output_type": "stream",
     "text": [
      "torch.Size([1, 64, 224, 224])\n",
      "torch.Size([1, 128, 112, 112])\n",
      "torch.Size([1, 256, 56, 56])\n",
      "torch.Size([1, 512, 28, 28])\n",
      "torch.Size([1, 1024, 14, 14])\n"
     ]
    }
   ],
   "source": [
    "for ftr in ftrs:\n",
    "    print(ftr.shape)\n",
    "print(out.shape)"
   ]
  },
  {
   "cell_type": "code",
   "execution_count": 42,
   "id": "3abc919b",
   "metadata": {},
   "outputs": [],
   "source": [
    "class Decoder(nn.Module):\n",
    "    def __init__(self):\n",
    "        super().__init__()\n",
    "        self.upconv_layer1 = UpConvLayer(in_channels=1024, out_channels=512)\n",
    "        self.conv_block1 = ConvLayer(in_channels=512+512, out_channels=512)\n",
    "        # skip connection 과 concat 되므로 512 +512\n",
    "        \n",
    "        self.upconv_layer2 = UpConvLayer(in_channels=512, out_channels=256)\n",
    "        self.conv_block2 = ConvLayer(in_channels=256+256, out_channels=256)\n",
    "        \n",
    "        self.upconv_layer3 = UpConvLayer(in_channels=256, out_channels=128)\n",
    "        self.conv_block3 = ConvLayer(in_channels=128+128, out_channels=128)\n",
    "        \n",
    "        self.upconv_layer4 = UpConvLayer(in_channels=128, out_channels=64)\n",
    "        self.conv_block4 = ConvLayer(in_channels=64+64, out_channels=64)\n",
    "        \n",
    "    def forward(self, x, encoder_features):\n",
    "        out = self.upconv_layer1(x)\n",
    "        out = torch.cat([out, encoder_features[-1]], dim=1)\n",
    "        out = self.conv_block1(out)\n",
    "        \n",
    "        out = self.upconv_layer2(out)\n",
    "        out = torch.cat([out, encoder_features[-2]], dim=1)\n",
    "        out = self.conv_block2(out)\n",
    "        \n",
    "        out = self.upconv_layer3(out)\n",
    "        out = torch.cat([out, encoder_features[-3]], dim=1)\n",
    "        out = self.conv_block3(out)\n",
    "        \n",
    "        out = self.upconv_layer4(out)\n",
    "        out = torch.cat([out, encoder_features[-4]], dim=1)\n",
    "        out = self.conv_block4(out)\n",
    "        return out"
   ]
  },
  {
   "cell_type": "code",
   "execution_count": 43,
   "id": "211d7254",
   "metadata": {},
   "outputs": [],
   "source": [
    "encoder = Encoder(pretrained=False)\n",
    "decoder = Decoder()\n",
    "x = torch.randn(1, 3, 224, 224)\n",
    "out, ftrs = encoder(x)\n",
    "out = decoder(out, ftrs)"
   ]
  },
  {
   "cell_type": "code",
   "execution_count": 44,
   "id": "2aa089d1",
   "metadata": {},
   "outputs": [
    {
     "name": "stdout",
     "output_type": "stream",
     "text": [
      "torch.Size([1, 64, 224, 224])\n"
     ]
    }
   ],
   "source": [
    "print(out.shape)"
   ]
  },
  {
   "cell_type": "code",
   "execution_count": 45,
   "id": "70e1fe93",
   "metadata": {},
   "outputs": [],
   "source": [
    "class UNet(nn.Module):\n",
    "    def __init__(self, num_classes, pretrained):\n",
    "        super().__init__()\n",
    "        self.encoder = Encoder(pretrained)\n",
    "        self.decoder = Decoder()\n",
    "        self.head = nn.Conv2d(64, num_classes, kernel_size=1)\n",
    "        # input channel = 64 / output channel = num_classes(클래스개수)/\n",
    "        # pointwise로 연산하기 위해 kernel_size = 1 , padding = 0\n",
    "        \n",
    "    def forward(self, x):\n",
    "        out, encode_features = self.encoder(x)\n",
    "        out = self.decoder(out, encode_features)\n",
    "        out = self.head(out)\n",
    "        return out"
   ]
  },
  {
   "cell_type": "code",
   "execution_count": 46,
   "id": "05b6bc48",
   "metadata": {},
   "outputs": [],
   "source": [
    "model = UNet(num_classes=4, pretrained=False)\n",
    "x = torch.randn(1, 3, 224, 224)\n",
    "out = model(x)"
   ]
  },
  {
   "cell_type": "code",
   "execution_count": 47,
   "id": "8f72672f",
   "metadata": {},
   "outputs": [
    {
     "name": "stdout",
     "output_type": "stream",
     "text": [
      "torch.Size([1, 4, 224, 224])\n"
     ]
    }
   ],
   "source": [
    "print(out.shape)"
   ]
  },
  {
   "cell_type": "markdown",
   "id": "31fb2946",
   "metadata": {},
   "source": [
    "## 4. Semantic segmentation Loss와 학습코드 작성하기"
   ]
  },
  {
   "cell_type": "code",
   "execution_count": 48,
   "id": "0c278cbc",
   "metadata": {},
   "outputs": [],
   "source": [
    "import torch.nn.functional as F"
   ]
  },
  {
   "cell_type": "code",
   "execution_count": 49,
   "id": "5e5cd719",
   "metadata": {},
   "outputs": [],
   "source": [
    "#dice coefficient 지표는 semantic segmentation 에서 자주 사용\n",
    "#validation 성능 측정 위해 UNet_metric 클래스 안에 dice coefficient 지표와 loss / CE 활용\n",
    "class UNet_metric():\n",
    "    def __init__(self, num_classes):\n",
    "        self.num_classes = num_classes\n",
    "        self.CE_loss = nn.CrossEntropyLoss(reduction=\"mean\")\n",
    "        \n",
    "    def __call__(self, pred, target):\n",
    "        loss1 = self.CE_loss(pred, target)\n",
    "        #dice coefficient loss 구하기 위해 먼저 onehot vector로 pred , target 값 encoding\n",
    "        onehot_pred = F.one_hot(torch.argmax(pred, dim=1), num_classes=self.num_classes).permute(0, 3, 1, 2)\n",
    "        #target값은 class Id 값으로 component가 저장 -> argmax 함수 x\n",
    "        onehot_target = F.one_hot(target, num_classes=self.num_classes).permute(0, 3, 1, 2)\n",
    "        loss2 = self._get_dice_loss(onehot_pred, onehot_target)\n",
    "        loss = loss1 + loss2\n",
    "        \n",
    "        dice_coefficient = self._get_batch_dice_coefficient(onehot_pred, onehot_target)\n",
    "        return loss, dice_coefficient\n",
    "    \n",
    "    # onehot encoding 된 값이 batch로 들어오면 batch 크기 만큼 for문 돌려 \n",
    "    # 각 batch index에 해당하는 pred / target 값의 onehot encoding된 metric을 하나씩 가져옴\n",
    "    # dice coefficient를 계산해서 더한다.\n",
    "    \n",
    "    def _get_batch_dice_coefficient(self, pred, target):\n",
    "        num_batch = pred.shape[0]\n",
    "        dice = 0\n",
    "        for batch_index in range(num_batch):\n",
    "            dice += self._get_multiclass_dice_coefficient(pred[batch_index], target[batch_index])\n",
    "        return dice / num_batch\n",
    "    \n",
    "    # binary = 클래스 1개일때\n",
    "    def _get_dice_coeffient(self, pred, target):\n",
    "        set_inter = torch.dot(pred.reshape(-1).float(), target.reshape(-1).float())#교집합\n",
    "        set_sum = pred.sum() + target.sum()\n",
    "        if set_sum.item() == 0:\n",
    "            set_sum = 2 * set_inter #분모와 분자의 값이 1이 되게 해서 학습할게 없게 만듦\n",
    "        dice_coeff = (2 * set_inter) / (set_sum + 1e-9) # + 1e-9 : 0으로 나눠지는거 방지\n",
    "        return dice_coeff\n",
    "    \n",
    "    # 클래스 여러개 일때\n",
    "    def _get_multiclass_dice_coefficient(self, pred, target):\n",
    "        dice = 0\n",
    "        for class_index in range(1, self.num_classes):#0은 background여서 1부터 for문\n",
    "            dice += self._get_dice_coeffient(pred[class_index], target[class_index])\n",
    "        return dice / (self.num_classes - 1)\n",
    "    \n",
    "    # batch에 들어있는 하나의 데이터는 4가지 멀티클래스의 pred, target값인데 target값의 \n",
    "    # dice coefficient를 구하기 위해 get_multiclass_dice_coefficient 에서 class_index마다 \n",
    "    # for문을 돌면서 binary 형태로 만들어주고 _get_dice_coeffient를 구한다.\n",
    "    \n",
    "    def _get_dice_loss(self, pred, target):\n",
    "        return 1 - self._get_batch_dice_coefficient(pred, target)"
   ]
  },
  {
   "cell_type": "code",
   "execution_count": 50,
   "id": "ad10b6f7",
   "metadata": {},
   "outputs": [],
   "source": [
    "data_dir = \"../DATASET/Segmentation/\"\n",
    "dataloaders = build_dataloader(data_dir=data_dir)\n",
    "\n",
    "for index, batch in enumerate(dataloaders[\"train\"]):\n",
    "    images = batch[0]\n",
    "    targets = batch[1]\n",
    "    predictions = model(images)\n",
    "    \n",
    "    if index == 0:\n",
    "        break"
   ]
  },
  {
   "cell_type": "code",
   "execution_count": 51,
   "id": "87d14b2f",
   "metadata": {},
   "outputs": [],
   "source": [
    "criterion = UNet_metric(num_classes=4)"
   ]
  },
  {
   "cell_type": "code",
   "execution_count": 52,
   "id": "cf2633de",
   "metadata": {},
   "outputs": [
    {
     "data": {
      "text/plain": [
       "(tensor(2.2932, grad_fn=<AddBackward0>), tensor(0.0221))"
      ]
     },
     "execution_count": 52,
     "metadata": {},
     "output_type": "execute_result"
    }
   ],
   "source": [
    "criterion(predictions, targets) #dice coefficient + CE 값 / dice 계수"
   ]
  },
  {
   "cell_type": "code",
   "execution_count": 32,
   "id": "776c2291",
   "metadata": {},
   "outputs": [],
   "source": [
    "#학습\n",
    "def train_one_epoch(dataloaders, model, criterion, optimizer, device):\n",
    "    # loss를 구할 criterion, loss로 기울기 갱신 optimizer \n",
    "    losses = {}\n",
    "    dice_coefficients = {}\n",
    "    \n",
    "    for phase in [\"train\", \"val\"]:\n",
    "        running_loss = 0.0\n",
    "        running_dice_coeff = 0.0\n",
    "        \n",
    "        if phase == \"train\":\n",
    "            model.train()\n",
    "        else:\n",
    "            model.eval()\n",
    "        \n",
    "        for index, batch in enumerate(dataloaders[phase]):\n",
    "            images = batch[0].to(device)\n",
    "            targets = batch[1].to(device)\n",
    "            \n",
    "            with torch.set_grad_enabled(phase == \"train\"):\n",
    "                predictions = model(images)\n",
    "                loss, dice_coefficient = criterion(predictions, targets)\n",
    "                \n",
    "            if phase == \"train\":\n",
    "                optimizer.zero_grad()\n",
    "                loss.backward()\n",
    "                optimizer.step()\n",
    "            \n",
    "            running_loss += loss.item()\n",
    "            running_dice_coeff += dice_coefficient.item()\n",
    "\n",
    "            if index == 10: # 10 index * mini_batch 데이터수 만큼 데이터를 한정\n",
    "                break\n",
    "\n",
    "        losses[phase] = running_loss / index\n",
    "        dice_coefficients[phase] = running_dice_coeff / index\n",
    "        \n",
    "    return losses, dice_coefficients"
   ]
  },
  {
   "cell_type": "markdown",
   "id": "f9f3e4b1",
   "metadata": {},
   "source": [
    "## 5. Weight Initialization 과 Transfer learning 모델 비교하기"
   ]
  },
  {
   "cell_type": "markdown",
   "id": "c59a22c0",
   "metadata": {},
   "source": [
    "### 5-1. He initialization"
   ]
  },
  {
   "cell_type": "code",
   "execution_count": null,
   "id": "2f386474",
   "metadata": {},
   "outputs": [],
   "source": [
    "def He_initialization(module):\n",
    "    if isinstance(module, torch.nn.Conv2d):\n",
    "        torch.nn.init.kaiming_normal_(module.weight) # He initialization\n",
    "    elif isinstance(module, torch.nn.BatchNorm2d):\n",
    "        module.weight.data.fill_(1.0)"
   ]
  },
  {
   "cell_type": "code",
   "execution_count": 39,
   "id": "82ff2f52",
   "metadata": {},
   "outputs": [],
   "source": [
    "data_dir = \"../DATASET/Segmentation/\"\n",
    "is_cuda = True\n",
    "\n",
    "NUM_CLASSES = 4\n",
    "IMAGE_SIZE = 224\n",
    "BATCH_SIZE = 12\n",
    "DEVICE = torch.device('cuda' if torch.cuda.is_available() and is_cuda else 'cpu')\n",
    "\n",
    "dataloaders = build_dataloader(data_dir, batch_size=BATCH_SIZE)\n",
    "model = UNet(num_classes=NUM_CLASSES, pretrained=False)\n",
    "model.apply(weight_He_initialization)\n",
    "model = model.to(DEVICE)\n",
    "criterion = UNet_metric(num_classes=NUM_CLASSES)\n",
    "optimizer = torch.optim.SGD(model.parameters(), lr=0.001, momentum=0.9)"
   ]
  },
  {
   "cell_type": "code",
   "execution_count": 40,
   "id": "1338672f",
   "metadata": {
    "scrolled": true
   },
   "outputs": [
    {
     "name": "stdout",
     "output_type": "stream",
     "text": [
      "0/30 - Train loss: 2.6626, Val loss: 2.1546, Train dice: 0.0602, Val dice: 0.0487\n",
      "1/30 - Train loss: 2.2176, Val loss: 1.8182, Train dice: 0.0827, Val dice: 0.0539\n",
      "2/30 - Train loss: 1.8437, Val loss: 1.6423, Train dice: 0.1071, Val dice: 0.0701\n",
      "3/30 - Train loss: 1.6344, Val loss: 1.5569, Train dice: 0.1181, Val dice: 0.0787\n",
      "4/30 - Train loss: 1.5175, Val loss: 1.5088, Train dice: 0.1282, Val dice: 0.0859\n",
      "5/30 - Train loss: 1.4379, Val loss: 1.4718, Train dice: 0.1430, Val dice: 0.0956\n",
      "6/30 - Train loss: 1.3755, Val loss: 1.4369, Train dice: 0.1600, Val dice: 0.1087\n",
      "7/30 - Train loss: 1.3221, Val loss: 1.4040, Train dice: 0.1777, Val dice: 0.1227\n",
      "8/30 - Train loss: 1.2756, Val loss: 1.3742, Train dice: 0.1941, Val dice: 0.1362\n",
      "9/30 - Train loss: 1.2354, Val loss: 1.3455, Train dice: 0.2081, Val dice: 0.1501\n",
      "10/30 - Train loss: 1.2003, Val loss: 1.3193, Train dice: 0.2198, Val dice: 0.1629\n",
      "11/30 - Train loss: 1.1700, Val loss: 1.2967, Train dice: 0.2293, Val dice: 0.1736\n",
      "12/30 - Train loss: 1.1438, Val loss: 1.2776, Train dice: 0.2370, Val dice: 0.1825\n",
      "13/30 - Train loss: 1.1211, Val loss: 1.2614, Train dice: 0.2433, Val dice: 0.1897\n",
      "14/30 - Train loss: 1.1011, Val loss: 1.2482, Train dice: 0.2487, Val dice: 0.1953\n",
      "15/30 - Train loss: 1.0839, Val loss: 1.2368, Train dice: 0.2531, Val dice: 0.2002\n",
      "16/30 - Train loss: 1.0686, Val loss: 1.2274, Train dice: 0.2570, Val dice: 0.2040\n",
      "17/30 - Train loss: 1.0551, Val loss: 1.2199, Train dice: 0.2605, Val dice: 0.2070\n",
      "18/30 - Train loss: 1.0431, Val loss: 1.2137, Train dice: 0.2635, Val dice: 0.2095\n",
      "19/30 - Train loss: 1.0323, Val loss: 1.2081, Train dice: 0.2663, Val dice: 0.2116\n",
      "20/30 - Train loss: 1.0228, Val loss: 1.2034, Train dice: 0.2686, Val dice: 0.2134\n",
      "21/30 - Train loss: 1.0143, Val loss: 1.1992, Train dice: 0.2707, Val dice: 0.2151\n",
      "22/30 - Train loss: 1.0066, Val loss: 1.1955, Train dice: 0.2725, Val dice: 0.2166\n",
      "23/30 - Train loss: 0.9996, Val loss: 1.1934, Train dice: 0.2741, Val dice: 0.2173\n",
      "24/30 - Train loss: 0.9933, Val loss: 1.1905, Train dice: 0.2756, Val dice: 0.2185\n",
      "25/30 - Train loss: 0.9875, Val loss: 1.1887, Train dice: 0.2769, Val dice: 0.2191\n",
      "26/30 - Train loss: 0.9821, Val loss: 1.1869, Train dice: 0.2780, Val dice: 0.2199\n",
      "27/30 - Train loss: 0.9771, Val loss: 1.1852, Train dice: 0.2790, Val dice: 0.2206\n",
      "28/30 - Train loss: 0.9726, Val loss: 1.1841, Train dice: 0.2799, Val dice: 0.2210\n",
      "29/30 - Train loss: 0.9683, Val loss: 1.1828, Train dice: 0.2808, Val dice: 0.2216\n"
     ]
    }
   ],
   "source": [
    "num_epochs = 30\n",
    "\n",
    "train_loss_def, train_dice_coefficient_def = [], []\n",
    "val_loss_def, val_dice_coefficient_def = [], []\n",
    "\n",
    "for epoch in range(num_epochs):\n",
    "    losses, dice_coefficients = train_one_epoch(dataloaders, model, criterion, optimizer, DEVICE)\n",
    "    train_loss_def.append(losses[\"train\"])\n",
    "    val_loss_def.append(losses[\"val\"])\n",
    "    train_dice_coefficient_def.append(dice_coefficients[\"train\"])\n",
    "    val_dice_coefficient_def.append(dice_coefficients[\"val\"])\n",
    "    \n",
    "    print(f\"{epoch}/{num_epochs} - Train loss: {losses['train']:.4f}, Val loss: {losses['val']:.4f},\" + \\\n",
    "          f\" Train dice: {dice_coefficients['train']:.4f}, Val dice: {dice_coefficients['val']:.4f}\")"
   ]
  },
  {
   "cell_type": "markdown",
   "id": "b4018873",
   "metadata": {},
   "source": [
    "### 5-2. Weight transfer pre-trained on ImageNet"
   ]
  },
  {
   "cell_type": "code",
   "execution_count": 41,
   "id": "8f9898d6",
   "metadata": {},
   "outputs": [],
   "source": [
    "data_dir = \"../DATASET/Segmentation/\"\n",
    "is_cuda = True\n",
    "\n",
    "NUM_CLASSES = 4\n",
    "IMAGE_SIZE = 224\n",
    "BATCH_SIZE = 12\n",
    "DEVICE = torch.device('cuda' if torch.cuda.is_available() and is_cuda else 'cpu')\n",
    "\n",
    "dataloaders = build_dataloader(data_dir, batch_size=BATCH_SIZE)\n",
    "model = UNet(num_classes=NUM_CLASSES, pretrained=True)\n",
    "model = model.to(DEVICE)\n",
    "criterion = UNet_metric(num_classes=NUM_CLASSES)\n",
    "optimizer = torch.optim.SGD(model.parameters(), lr=0.001, momentum=0.9)"
   ]
  },
  {
   "cell_type": "code",
   "execution_count": 42,
   "id": "11db5b2e",
   "metadata": {},
   "outputs": [
    {
     "name": "stdout",
     "output_type": "stream",
     "text": [
      "0/30 - Train loss: 2.5675, Val loss: 2.5100, Train dice: 0.0862, Val dice: 0.0715\n",
      "1/30 - Train loss: 2.2184, Val loss: 2.3311, Train dice: 0.0633, Val dice: 0.0004\n",
      "2/30 - Train loss: 1.9612, Val loss: 2.0221, Train dice: 0.0091, Val dice: 0.0000\n",
      "3/30 - Train loss: 1.8069, Val loss: 1.8172, Train dice: 0.0002, Val dice: 0.0000\n",
      "4/30 - Train loss: 1.7273, Val loss: 1.7162, Train dice: 0.0000, Val dice: 0.0000\n",
      "5/30 - Train loss: 1.6795, Val loss: 1.6654, Train dice: 0.0000, Val dice: 0.0000\n",
      "6/30 - Train loss: 1.6404, Val loss: 1.6382, Train dice: 0.0000, Val dice: 0.0000\n",
      "7/30 - Train loss: 1.5991, Val loss: 1.6143, Train dice: 0.0001, Val dice: 0.0000\n",
      "8/30 - Train loss: 1.5501, Val loss: 1.5871, Train dice: 0.0011, Val dice: 0.0001\n",
      "9/30 - Train loss: 1.4713, Val loss: 1.5324, Train dice: 0.0259, Val dice: 0.0046\n",
      "10/30 - Train loss: 1.2950, Val loss: 1.4362, Train dice: 0.1491, Val dice: 0.0668\n",
      "11/30 - Train loss: 1.1583, Val loss: 1.3052, Train dice: 0.2416, Val dice: 0.1700\n",
      "12/30 - Train loss: 1.0877, Val loss: 1.2359, Train dice: 0.2751, Val dice: 0.2107\n",
      "13/30 - Train loss: 1.0420, Val loss: 1.2274, Train dice: 0.2889, Val dice: 0.2327\n",
      "14/30 - Train loss: 1.0140, Val loss: 1.1616, Train dice: 0.2927, Val dice: 0.2502\n",
      "15/30 - Train loss: 0.9862, Val loss: 1.1437, Train dice: 0.2975, Val dice: 0.2567\n",
      "16/30 - Train loss: 0.9675, Val loss: 1.1365, Train dice: 0.2992, Val dice: 0.2563\n",
      "17/30 - Train loss: 0.9523, Val loss: 1.1205, Train dice: 0.3004, Val dice: 0.2594\n",
      "18/30 - Train loss: 0.9399, Val loss: 1.1266, Train dice: 0.3013, Val dice: 0.2566\n",
      "19/30 - Train loss: 0.9314, Val loss: 1.1014, Train dice: 0.3016, Val dice: 0.2618\n",
      "20/30 - Train loss: 0.9240, Val loss: 1.1102, Train dice: 0.3019, Val dice: 0.2609\n",
      "21/30 - Train loss: 0.9173, Val loss: 1.0885, Train dice: 0.3026, Val dice: 0.2627\n",
      "22/30 - Train loss: 0.9090, Val loss: 1.0881, Train dice: 0.3035, Val dice: 0.2668\n",
      "23/30 - Train loss: 0.9046, Val loss: 1.0953, Train dice: 0.3039, Val dice: 0.2575\n",
      "24/30 - Train loss: 0.8982, Val loss: 1.0916, Train dice: 0.3049, Val dice: 0.2663\n",
      "25/30 - Train loss: 0.8930, Val loss: 1.0950, Train dice: 0.3063, Val dice: 0.2534\n",
      "26/30 - Train loss: 0.8916, Val loss: 1.0930, Train dice: 0.3049, Val dice: 0.2652\n",
      "27/30 - Train loss: 0.8865, Val loss: 1.0970, Train dice: 0.3069, Val dice: 0.2526\n",
      "28/30 - Train loss: 0.8867, Val loss: 1.0829, Train dice: 0.3052, Val dice: 0.2680\n",
      "29/30 - Train loss: 0.8823, Val loss: 1.1427, Train dice: 0.3072, Val dice: 0.2327\n"
     ]
    }
   ],
   "source": [
    "num_epochs = 30\n",
    "\n",
    "train_loss_prt, train_dice_coefficient_prt = [], []\n",
    "val_loss_prt, val_dice_coefficient_prt = [], []\n",
    "\n",
    "for epoch in range(num_epochs):\n",
    "    losses, dice_coefficients = train_one_epoch(dataloaders, model, criterion, optimizer, DEVICE)\n",
    "    train_loss_prt.append(losses[\"train\"])\n",
    "    val_loss_prt.append(losses[\"val\"])\n",
    "    train_dice_coefficient_prt.append(dice_coefficients[\"train\"])\n",
    "    val_dice_coefficient_prt.append(dice_coefficients[\"val\"])\n",
    "    \n",
    "    print(f\"{epoch}/{num_epochs} - Train loss: {losses['train']:.4f}, Val loss: {losses['val']:.4f},\" + \\\n",
    "          f\" Train dice: {dice_coefficients['train']:.4f}, Val dice: {dice_coefficients['val']:.4f}\")"
   ]
  },
  {
   "cell_type": "markdown",
   "id": "4c93bd77",
   "metadata": {},
   "source": [
    "### 5-3. Weight transfer with freezing encoder layer"
   ]
  },
  {
   "cell_type": "code",
   "execution_count": 45,
   "id": "ee79c39d",
   "metadata": {},
   "outputs": [],
   "source": [
    "data_dir = \"../DATASET/Segmentation/\"\n",
    "is_cuda = True\n",
    "\n",
    "NUM_CLASSES = 4\n",
    "IMAGE_SIZE = 224\n",
    "BATCH_SIZE = 12\n",
    "DEVICE = torch.device('cuda' if torch.cuda.is_available() and is_cuda else 'cpu')\n",
    "\n",
    "dataloaders = build_dataloader(data_dir, batch_size=BATCH_SIZE)\n",
    "model = UNet(num_classes=NUM_CLASSES, pretrained=True)\n",
    "model = model.to(DEVICE)\n",
    "model.encoder.requires_grad_ = False\n",
    "criterion = UNet_metric(num_classes=NUM_CLASSES)\n",
    "optimizer = torch.optim.SGD(filter(lambda p: p.requires_grad, model.parameters()), lr=0.001, momentum=0.9)"
   ]
  },
  {
   "cell_type": "code",
   "execution_count": 47,
   "id": "83e8040b",
   "metadata": {},
   "outputs": [
    {
     "name": "stdout",
     "output_type": "stream",
     "text": [
      "0/30 - Train loss: 2.4897, Val loss: 2.5063, Train dice: 0.0813, Val dice: 0.0721\n",
      "1/30 - Train loss: 2.1744, Val loss: 2.3675, Train dice: 0.0570, Val dice: 0.0240\n",
      "2/30 - Train loss: 1.9315, Val loss: 2.1080, Train dice: 0.0097, Val dice: 0.0004\n",
      "3/30 - Train loss: 1.7786, Val loss: 1.8504, Train dice: 0.0004, Val dice: 0.0000\n",
      "4/30 - Train loss: 1.6900, Val loss: 1.7040, Train dice: 0.0001, Val dice: 0.0000\n",
      "5/30 - Train loss: 1.6262, Val loss: 1.6337, Train dice: 0.0001, Val dice: 0.0000\n",
      "6/30 - Train loss: 1.5659, Val loss: 1.6002, Train dice: 0.0011, Val dice: 0.0000\n",
      "7/30 - Train loss: 1.4834, Val loss: 1.5592, Train dice: 0.0232, Val dice: 0.0004\n",
      "8/30 - Train loss: 1.3156, Val loss: 1.5181, Train dice: 0.1378, Val dice: 0.0162\n",
      "9/30 - Train loss: 1.1778, Val loss: 1.4137, Train dice: 0.2340, Val dice: 0.0918\n",
      "10/30 - Train loss: 1.1039, Val loss: 1.3173, Train dice: 0.2705, Val dice: 0.1654\n",
      "11/30 - Train loss: 1.0575, Val loss: 1.2599, Train dice: 0.2862, Val dice: 0.2039\n",
      "12/30 - Train loss: 1.0244, Val loss: 1.2177, Train dice: 0.2938, Val dice: 0.2245\n",
      "13/30 - Train loss: 0.9994, Val loss: 1.1978, Train dice: 0.2978, Val dice: 0.2313\n",
      "14/30 - Train loss: 0.9807, Val loss: 1.1877, Train dice: 0.2996, Val dice: 0.2364\n",
      "15/30 - Train loss: 0.9665, Val loss: 1.1727, Train dice: 0.3004, Val dice: 0.2398\n",
      "16/30 - Train loss: 0.9522, Val loss: 1.1620, Train dice: 0.3019, Val dice: 0.2440\n",
      "17/30 - Train loss: 0.9435, Val loss: 1.1690, Train dice: 0.3022, Val dice: 0.2338\n",
      "18/30 - Train loss: 0.9384, Val loss: 1.1325, Train dice: 0.3010, Val dice: 0.2528\n",
      "19/30 - Train loss: 0.9255, Val loss: 1.1562, Train dice: 0.3036, Val dice: 0.2461\n",
      "20/30 - Train loss: 0.9214, Val loss: 1.1569, Train dice: 0.3036, Val dice: 0.2405\n",
      "21/30 - Train loss: 0.9125, Val loss: 1.1248, Train dice: 0.3041, Val dice: 0.2549\n",
      "22/30 - Train loss: 0.9049, Val loss: 1.1160, Train dice: 0.3062, Val dice: 0.2544\n",
      "23/30 - Train loss: 0.9012, Val loss: 1.1256, Train dice: 0.3060, Val dice: 0.2528\n",
      "24/30 - Train loss: 0.8974, Val loss: 1.1115, Train dice: 0.3067, Val dice: 0.2549\n",
      "25/30 - Train loss: 0.8954, Val loss: 1.1108, Train dice: 0.3057, Val dice: 0.2575\n",
      "26/30 - Train loss: 0.8886, Val loss: 1.1061, Train dice: 0.3077, Val dice: 0.2575\n",
      "27/30 - Train loss: 0.8854, Val loss: 1.1081, Train dice: 0.3080, Val dice: 0.2574\n",
      "28/30 - Train loss: 0.8822, Val loss: 1.1019, Train dice: 0.3085, Val dice: 0.2587\n",
      "29/30 - Train loss: 0.8798, Val loss: 1.1060, Train dice: 0.3087, Val dice: 0.2577\n"
     ]
    }
   ],
   "source": [
    "num_epochs = 30\n",
    "\n",
    "train_loss_frz, train_dice_coefficient_frz = [], []\n",
    "val_loss_frz, val_dice_coefficient_frz = [], []\n",
    "\n",
    "for epoch in range(num_epochs):\n",
    "    losses, dice_coefficients = train_one_epoch(dataloaders, model, criterion, optimizer, DEVICE)\n",
    "    train_loss_frz.append(losses[\"train\"])\n",
    "    val_loss_frz.append(losses[\"val\"])\n",
    "    train_dice_coefficient_frz.append(dice_coefficients[\"train\"])\n",
    "    val_dice_coefficient_frz.append(dice_coefficients[\"val\"])\n",
    "    \n",
    "    print(f\"{epoch}/{num_epochs} - Train loss: {losses['train']:.4f}, Val loss: {losses['val']:.4f},\" + \\\n",
    "          f\" Train dice: {dice_coefficients['train']:.4f}, Val dice: {dice_coefficients['val']:.4f}\")"
   ]
  },
  {
   "attachments": {
    "loss_figure-2.png": {
     "image/png": "[encoded data removed]"
    }
   },
   "cell_type": "markdown",
   "id": "cc9413a6",
   "metadata": {},
   "source": [
    "![loss_figure-2.png](attachment:loss_figure-2.png)"
   ]
  }
 ],
 "metadata": {
  "kernelspec": {
   "display_name": "Python 3 (ipykernel)",
   "language": "python",
   "name": "python3"
  },
  "language_info": {
   "codemirror_mode": {
    "name": "ipython",
    "version": 3
   },
   "file_extension": ".py",
   "mimetype": "text/x-python",
   "name": "python",
   "nbconvert_exporter": "python",
   "pygments_lexer": "ipython3",
   "version": "3.9.12"
  }
 },
 "nbformat": 4,
 "nbformat_minor": 5
}
